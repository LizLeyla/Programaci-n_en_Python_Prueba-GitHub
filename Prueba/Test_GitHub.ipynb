{
  "nbformat": 4,
  "nbformat_minor": 0,
  "metadata": {
    "colab": {
      "provenance": [],
      "authorship_tag": "ABX9TyM7kPUHU+gTxy1zVug/FG4r",
      "include_colab_link": true
    },
    "kernelspec": {
      "name": "python3",
      "display_name": "Python 3"
    },
    "language_info": {
      "name": "python"
    }
  },
  "cells": [
    {
      "cell_type": "markdown",
      "metadata": {
        "id": "view-in-github",
        "colab_type": "text"
      },
      "source": [
        "<a href=\"https://colab.research.google.com/github/LizLeyla/Programaci-n_en_Python_Prueba-GitHub/blob/main/Prueba/Test_GitHub.ipynb\" target=\"_parent\"><img src=\"https://colab.research.google.com/assets/colab-badge.svg\" alt=\"Open In Colab\"/></a>"
      ]
    },
    {
      "cell_type": "code",
      "execution_count": 1,
      "metadata": {
        "id": "zl3Wi1VmRJQj",
        "colab": {
          "base_uri": "https://localhost:8080/"
        },
        "outputId": "801b0264-aae1-4687-914e-e4b6e666ed08"
      },
      "outputs": [
        {
          "output_type": "stream",
          "name": "stdout",
          "text": [
            "estaes una prueba\n"
          ]
        }
      ],
      "source": [
        "print(\"esta es una prueba\")\n",
        "\n"
      ]
    },
    {
      "cell_type": "markdown",
      "source": [
        "Esta será una demostración de como trabajar en GitHub\n"
      ],
      "metadata": {
        "id": "PngzCyYkGFpW"
      }
    }
  ]
}